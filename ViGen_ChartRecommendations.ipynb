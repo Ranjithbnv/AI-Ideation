
#Main Code



df= pd.read_csv('sales_data_sample.csv', encoding='latin1')



categorized_cols = categorize_columns(df)

for col_type, cols in categorized_cols.items():
    print(f"{col_type.capitalize()} Columns: {cols}")

# Example Usage
plot_correlation_matrix(df, categorized_cols["numerical"])

# Example Usage
corr_matrix, correlated_columns = compute_correlation(df, threshold=0.6)

# Display Correlation Data
print("\nCorrelation Matrix:\n", corr_matrix)
print("\nHighly Correlated Columns:\n", correlated_columns)


# Get Top 10 Sensible Chart Recommendations
top_chart_recommendations = score_chart_recommendations(categorized_cols, correlated_columns, df)

# Display Recommendations
for rec in top_chart_recommendations:
    print("- " + rec)







import pandas as pd

def categorize_columns(df, id_threshold=0.5):
    """
    Categorizes columns into numerical, categorical, datetime, boolean, and text.
    """
    column_types = {
        "numerical": [],
        "categorical": [],
        "datetime": [],
        "boolean": [],
        "text": [],
        "id_high_cardinality": []
    }

    for col in df.columns:
        # Detect Boolean
        unique_vals = df[col].dropna().unique()
        if set(unique_vals).issubset({0, 1, True, False, "yes", "no", "Yes", "No"}):
            column_types["boolean"].append(col)
            continue

        # Detect DateTime but ensure it isn't mistakenly classifying numeric columns
        if not pd.api.types.is_numeric_dtype(df[col]):  # Skip already numeric columns
            try:
                converted = pd.to_datetime(df[col], errors='coerce')
                if converted.notna().sum() > 0 and converted.nunique() < len(df):
                    column_types["datetime"].append(col)
                    continue  # If it's datetime, don't classify it further
            except Exception:
                pass

        # Detect Numerical (excluding date columns)
        if pd.api.types.is_numeric_dtype(df[col]):
            column_types["numerical"].append(col)
            continue

        # Detect Text Columns (Longer than a threshold)
        if df[col].dtype == 'object' and df[col].str.len().mean() > 20:
            column_types["text"].append(col)
            continue

        # Detect Categorical (Nominal & Ordinal)
        unique_ratio = df[col].nunique(dropna=True) / len(df)
        if unique_ratio < id_threshold:
            column_types["categorical"].append(col)
        else:
            column_types["id_high_cardinality"].append(col)

    return column_types


import seaborn as sns
import matplotlib.pyplot as plt

def plot_correlation_matrix(df, numerical_cols):
    """
    Plots a correlation matrix for numerical columns.
    """
    if len(numerical_cols) < 2:
        print("Not enough numerical columns for correlation analysis.")
        return
    
    corr_matrix = df[numerical_cols].corr()
    
    plt.figure(figsize=(10, 6))
    sns.heatmap(corr_matrix, annot=True, cmap="coolwarm", fmt=".2f", linewidths=0.5)
    plt.title("Correlation Matrix")
    plt.show()
    



def compute_correlation(df, threshold=0.5):
    """
    Computes the correlation matrix and identifies highly correlated numerical columns.
    """
    numerical_cols = df.select_dtypes(include=['number']).columns.tolist()
    
    if not numerical_cols:
        return None, "No numerical columns found for correlation analysis."
    
    corr_matrix = df[numerical_cols].corr()

    # Extract strong correlations above a given threshold
    strong_correlations = []
    for i in range(len(numerical_cols)):
        for j in range(i+1, len(numerical_cols)):
            correlation = corr_matrix.iloc[i, j]
            if abs(correlation) > threshold:
                strong_correlations.append((numerical_cols[i], numerical_cols[j], correlation))

    return corr_matrix, strong_correlations





def score_chart_recommendations(categorized_cols, correlated_columns, df):
    """
    Scores and ranks chart recommendations based on correlation strength and data distribution,
    now including Pie Charts.
    """
    scores = []

    # Histogram (Good for columns with many unique values)
    for col in categorized_cols["numerical"]:
        unique_vals = df[col].nunique()
        score = min(10, unique_vals / 10)  # Score based on uniqueness
        scores.append((score, f"Use a Histogram for {col}"))

    # Scatter / Line Chart (Only for strong correlations)
    for col1, col2, correlation in correlated_columns:
        abs_corr = abs(correlation)
        if abs_corr > 0.75:
            score = 20 * abs_corr  # Stronger correlation gets higher priority
            scores.append((score, f"Use a Scatter Plot for {col1} vs {col2} (Correlation: {correlation:.2f})"))
        elif abs_corr > 0.5:
            score = 15 * abs_corr
            scores.append((score, f"Use a Line Chart for {col1} vs {col2} (Correlation: {correlation:.2f})"))

    # Bar Chart (Categorical vs Numerical)
    for num_col in categorized_cols["numerical"]:
        for cat_col in categorized_cols["categorical"]:
            unique_vals = df[cat_col].nunique()
            if 2 < unique_vals < 15:  # Ideal range for bar charts
                score = 8 + unique_vals  # Score based on category diversity
                scores.append((score, f"Use a Bar Chart to compare {num_col} across {cat_col}"))

    # Box Plot (Categorical vs Numerical)
    for num_col in categorized_cols["numerical"]:
        for cat_col in categorized_cols["categorical"]:
            unique_vals = df[cat_col].nunique()
            if 3 < unique_vals < 10:  # Box plots are best for smaller groups
                score = 6 + unique_vals
                scores.append((score, f"Use a Box Plot to analyze {num_col} across {cat_col}"))

    # Line Chart (Datetime vs Numerical)
    for date_col in categorized_cols["datetime"]:
        for num_col in categorized_cols["numerical"]:
            score = 12  # Line charts are always useful for trends
            scores.append((score, f"Use a Line Chart to track {num_col} over {date_col}"))

    # Pie Chart (Categorical vs Numerical when summing to a whole)
    for num_col in categorized_cols["numerical"]:
        total_sum = df[num_col].sum()
        for cat_col in categorized_cols["categorical"]:
            unique_vals = df[cat_col].nunique()
            if 2 <= unique_vals <= 6:  # Pie charts work well for 2-6 categories
                score = 10 + unique_vals
                scores.append((score, f"Use a Pie Chart to show {num_col} distribution across {cat_col}"))

    # Sort recommendations by score and pick the top 10
    scores.sort(reverse=True, key=lambda x: x[0])
    
    return [rec for _, rec in scores[:100]]





